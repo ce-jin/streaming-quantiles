{
 "cells": [
  {
   "cell_type": "code",
   "execution_count": 1,
   "metadata": {},
   "outputs": [],
   "source": [
    "from puffergoat import PufferGoat as sketch"
   ]
  },
  {
   "cell_type": "code",
   "execution_count": 2,
   "metadata": {},
   "outputs": [],
   "source": [
    "import numpy as np\n",
    "\n",
    "def make_data(n, pattern='rand'):\n",
    "    np.random.seed(seed=0)\n",
    "    data=np.zeros(n)\n",
    "    b = 1/n\n",
    "    data[0:2] = [0,1]\n",
    "    if pattern == 'up':\n",
    "        data[2:] = np.linspace(b, 1-b, n-2)\n",
    "    elif pattern == 'down':\n",
    "        data[2:] = np.linspace(1-b, b, n-2)\n",
    "    elif pattern == 'in':\n",
    "        data[2::2] = np.linspace(b  , 0.5-b, n//2-1)\n",
    "        data[3::2] = np.linspace(1-b, 0.5+b, n//2-1)\n",
    "    elif pattern == 'out':\n",
    "        data[2::2] = np.linspace(0.5-b, b  , n//2-1)\n",
    "        data[3::2] = np.linspace(0.5+b, 1-b, n//2-1)\n",
    "    else:\n",
    "        data[2:] = np.random.rand(n-2)\n",
    "    return data\n",
    "\n"
   ]
  },
  {
   "cell_type": "code",
   "execution_count": 3,
   "metadata": {},
   "outputs": [],
   "source": [
    "import matplotlib.pyplot as plt\n",
    "\n",
    "def populate_plot(axes, _xs, sketch):\n",
    "    data_xs = np.array(_xs)\n",
    "    data_ys = np.array(range(len(_xs)))+1\n",
    "    data_xs_steps = np.repeat(data_xs,2)[1:]\n",
    "    data_ys_steps = np.repeat(data_ys,2)[:-1]\n",
    "    axes.plot(data_xs_steps, data_ys_steps)    \n",
    "    x1s, x2s, lower_ys, upper_ys = sketch.get_bounds()\n",
    "    double_xs = np.array([x for pair in zip(x1s, x2s) for x in pair])\n",
    "    axes.vlines(list(x1s)+[1.0], -len(_xs)/10, -len(_xs)/5, colors=(.5,.5,.5), linestyles='solid')\n",
    "    axes.plot(double_xs, np.repeat(upper_ys+0.05,2))\n",
    "    axes.plot(double_xs, np.repeat(lower_ys-0.05,2))\n",
    "    #axes.set_axis_off()"
   ]
  },
  {
   "cell_type": "code",
   "execution_count": 4,
   "metadata": {},
   "outputs": [],
   "source": [
    "n = 1000\n",
    "data = make_data(n,'rand')"
   ]
  },
  {
   "cell_type": "code",
   "execution_count": 5,
   "metadata": {},
   "outputs": [],
   "source": [
    "k= 10\n",
    "s = sketch(k)\n",
    "    \n",
    "for i, x in enumerate(data):\n",
    "    s.update(x)"
   ]
  },
  {
   "cell_type": "code",
   "execution_count": 6,
   "metadata": {},
   "outputs": [
    {
     "data": {
      "image/png": "[encoded data removed]",
      "text/plain": [
       "<Figure size 648x324 with 1 Axes>"
      ]
     },
     "metadata": {
      "needs_background": "light"
     },
     "output_type": "display_data"
    }
   ],
   "source": [
    "fig, axs = plt.subplots(1)\n",
    "fig.set_figheight(4.5)\n",
    "fig.set_figwidth(9)\n",
    "plt.tight_layout()\n",
    "populate_plot(axs, sorted(data), s)\n"
   ]
  }
 ],
 "metadata": {
  "kernelspec": {
   "display_name": "Python 3",
   "language": "python",
   "name": "python3"
  },
  "language_info": {
   "codemirror_mode": {
    "name": "ipython",
    "version": 3
   },
   "file_extension": ".py",
   "mimetype": "text/x-python",
   "name": "python",
   "nbconvert_exporter": "python",
   "pygments_lexer": "ipython3",
   "version": "3.6.5"
  }
 },
 "nbformat": 4,
 "nbformat_minor": 4
}
