{
 "cells": [
  {
   "cell_type": "code",
   "execution_count": 1,
   "metadata": {},
   "outputs": [],
   "source": [
    "from stairwaytoheaven import StairwayToHeaven as sketch\n",
    "from adversaryStream import Adversary as adv\n",
    "from adversary_kewen import AdversaryKewen as advkw"
   ]
  },
  {
   "cell_type": "code",
   "execution_count": 5,
   "metadata": {},
   "outputs": [
    {
     "name": "stdout",
     "output_type": "stream",
     "text": [
      "Heights = [149, 149, 149, 149, 149, 149, 149, 149, 149, 149, 149, 148, 148, 148, 148, 148, 149, 149, 147, 148, 148, 148, 147, 147, 146, 146, 145, 147, 144, 146, 143, 145, 142, 145, 148, 145, 144, 145, 142, 140, 142, 138, 143, 145, 140, 145, 139, 139, 131, 139, 148, 132, 132, 131, 146, 124, 137, 131, 131, 142, 121, 120, 135, 122, 138, 113, 100, 118, 123, 98, 125, 126, 98, 84, 110, 98, 75, 104, 57, 139]\n",
      "Heights = [149, 149, 149, 149, 149, 149, 149, 149, 149, 149, 149, 148, 148, 148, 148, 148, 149, 149, 147, 148, 148, 148, 147, 147, 146, 146, 145, 147, 144, 146, 143, 145, 142, 145, 148, 145, 144, 145, 142, 140, 142, 138, 143, 145, 140, 145, 139, 139, 131, 139, 148, 132, 132, 131, 146, 124, 137, 131, 131, 142, 121, 120, 135, 122, 138, 113, 100, 118, 123, 98, 125, 126, 98, 84, 110, 98, 75, 104, 57, 139]\n"
     ]
    }
   ],
   "source": [
    "from math import inf\n",
    "\n",
    "sketchsize = 80\n",
    "n = 2048\n",
    "s = sketch(sketchsize)\n",
    "#print(f'Boxes = {s.items}')\n",
    "#print(f'Heights = {s.get_heights()}')\n",
    "#print('n =', 0)\n",
    "for i,x in enumerate(range(n,0,-1)):\n",
    "    #print('-'*80)\n",
    "    #print(f'Inserting value x = {x}')\n",
    "    pop_index = s.update(x)\n",
    "    #if pop_index:\n",
    "    #    print(f'Merged boxes {pop_index-1} and {pop_index}')\n",
    "    #else:\n",
    "    #    print(f'Merged no boxes')\n",
    "    #print(f'Boxes = {s.items}')\n",
    "    #hs = s.get_heights()\n",
    "    #assert(max(hs)==hs[0])    \n",
    "    #print('n =', i+1)\n",
    "hs = s.get_heights()\n",
    "print(f'Heights = {hs}')\n",
    "    \n",
    "    "
   ]
  },
  {
   "cell_type": "code",
   "execution_count": null,
   "metadata": {},
   "outputs": [],
   "source": [
    "K=10\n",
    "inveps = 8\n",
    "sketchsize = 40\n",
    "ad = adv(sketchsize,inveps)\n",
    "(stream1, stream2) = ad.generateStream(K)\n",
    "#print(stream1)\n",
    "#print(stream2)\n",
    "assert(len(stream1)== (2**K)*inveps)"
   ]
  },
  {
   "cell_type": "code",
   "execution_count": null,
   "metadata": {},
   "outputs": [],
   "source": [
    "stream = stream1\n",
    "s = sketch(sketchsize)\n",
    "#print(f'Boxes = {s.items}')\n",
    "#print(f'Heights = {s.get_heights()}')\n",
    "#print('n =', 0)\n",
    "for i,x in enumerate(stream):\n",
    "    #print('-'*80)\n",
    "    #print(f'Inserting value x = {x}')\n",
    "    pop_index = s.update(x)\n",
    "    #if pop_index:\n",
    "    #    print(f'Merged boxes {pop_index-1} and {pop_index}')\n",
    "    #else:\n",
    "    #    print(f'Merged no boxes')\n",
    "    #print(f'Boxes = {s.items}')\n",
    "    #hs = s.get_heights()\n",
    "    #print(f'Heights = {hs}')\n",
    "    #print('n =', i+1)\n",
    "hs = s.get_heights()\n",
    "print(f'len of stream = {len(stream)}')\n",
    "#print(stream)\n",
    "print(f'Heights = {hs}')"
   ]
  },
  {
   "cell_type": "code",
   "execution_count": null,
   "metadata": {},
   "outputs": [],
   "source": [
    "stream = stream2\n",
    "s = sketch(sketchsize)\n",
    "print(f'Boxes = {s.items}')\n",
    "print(f'Heights = {s.get_heights()}')\n",
    "print('n =', 0)\n",
    "for i,x in enumerate(stream):\n",
    "    #print('-'*80)\n",
    "    #print(f'Inserting value x = {x}')\n",
    "    pop_index = s.update(x)\n",
    "    #if pop_index:\n",
    "    #    print(f'Merged boxes {pop_index-1} and {pop_index}')\n",
    "    #else:\n",
    "    #    print(f'Merged no boxes')\n",
    "    #print(f'Boxes = {s.items}')\n",
    "    #hs = s.get_heights()\n",
    "    #print(f'Heights = {hs}')\n",
    "    #print('n =', i+1)\n",
    "hs = s.get_heights()\n",
    "print(f'len of stream = {len(stream)}')\n",
    "print(stream)\n",
    "print(f'Heights = {hs}')"
   ]
  },
  {
   "cell_type": "code",
   "execution_count": 2,
   "metadata": {},
   "outputs": [
    {
     "name": "stdout",
     "output_type": "stream",
     "text": [
      "x1,x2=((-inf,), (inf,))\n",
      "x=(-inf, 0)\n",
      "x={(x[0])}\n",
      "x1,x2=((-inf,), (-inf, 0))\n",
      "x=(-inf, -1, 0)\n",
      "x={(x[0])}\n",
      "x1,x2=((-inf,), (-inf, -1, 0))\n",
      "x=(-inf, -2, 0)\n",
      "x={(x[0])}\n",
      "x1,x2=((-inf,), (-inf, -1, 0))\n",
      "x=(-inf, -2, 0)\n",
      "x={(x[0])}\n",
      "x1,x2=((-inf,), (-inf, -2, 0))\n",
      "x=(-inf, -3, 0)\n",
      "x={(x[0])}\n",
      "x1,x2=((-inf,), (-inf, -2, 0))\n",
      "x=(-inf, -3, 0)\n",
      "x={(x[0])}\n",
      "x1,x2=((-inf,), (-inf, -2, 0))\n",
      "x=(-inf, -3, 0)\n",
      "x={(x[0])}\n",
      "x1,x2=((-inf,), (-inf, -3, 0))\n",
      "x=(-inf, -4, 0)\n",
      "x={(x[0])}\n",
      "x1,x2=((-inf,), (-inf, -3, 0))\n",
      "x=(-inf, -4, 0)\n",
      "x={(x[0])}\n",
      "x1,x2=((-inf,), (-inf, -3, 0))\n",
      "x=(-inf, -4, 0)\n",
      "x={(x[0])}\n",
      "len of stream = 10\n",
      "(4, 3, 2, 2, 1, 1, 1, 0, 0, 0)\n",
      "Heights = [6, 3, 3]\n",
      "x1,x2=((-inf,), (inf,))\n",
      "x=(-inf, 0)\n",
      "x={(x[0])}\n",
      "x1,x2=((-inf,), (-inf, 0))\n",
      "x=(-inf, -1, 0)\n",
      "x={(x[0])}\n",
      "x1,x2=((-inf,), (-inf, -1, 0))\n",
      "x=(-inf, -2, 0)\n",
      "x={(x[0])}\n",
      "x1,x2=((-inf,), (-inf, -1, 0))\n",
      "x=(-inf, -2, 0)\n",
      "x={(x[0])}\n",
      "x1,x2=((-inf,), (-inf, -2, 0))\n",
      "x=(-inf, -3, 0)\n",
      "x={(x[0])}\n",
      "x1,x2=((-inf,), (-inf, -2, 0))\n",
      "x=(-inf, -3, 0)\n",
      "x={(x[0])}\n",
      "x1,x2=((-inf,), (-inf, -2, 0))\n",
      "x=(-inf, -3, 0)\n",
      "x={(x[0])}\n",
      "x1,x2=((-inf,), (-inf, -3, 0))\n",
      "x=(-inf, -4, 0)\n",
      "x={(x[0])}\n",
      "x1,x2=((-inf,), (-inf, -3, 0))\n",
      "x=(-inf, -4, 0)\n",
      "x={(x[0])}\n",
      "x1,x2=((-inf,), (-inf, -3, 0))\n",
      "x=(-inf, -4, 0)\n",
      "x={(x[0])}\n",
      "len of stream = 10\n",
      "(4, 3, 2, 2, 1, 1, 1, 0, 0, 0)\n",
      "Heights = [6, 3, 3]\n"
     ]
    }
   ],
   "source": [
    "sketchsize=3\n",
    "adkw = advkw(sketchsize)\n",
    "n=10\n",
    "stream = adkw.generateStream(n)\n",
    "s = sketch(sketchsize)\n",
    "\n",
    "for i,x in enumerate(stream):\n",
    "    pop_index = s.update(x)\n",
    "\n",
    "hs = s.get_heights()\n",
    "print(f'len of stream = {len(stream)}')\n",
    "print(stream)\n",
    "print(f'Heights = {hs}')"
   ]
  },
  {
   "cell_type": "code",
   "execution_count": null,
   "metadata": {},
   "outputs": [],
   "source": []
  }
 ],
 "metadata": {
  "kernelspec": {
   "display_name": "Python 3",
   "language": "python",
   "name": "python3"
  },
  "language_info": {
   "codemirror_mode": {
    "name": "ipython",
    "version": 3
   },
   "file_extension": ".py",
   "mimetype": "text/x-python",
   "name": "python",
   "nbconvert_exporter": "python",
   "pygments_lexer": "ipython3",
   "version": "3.6.8"
  }
 },
 "nbformat": 4,
 "nbformat_minor": 4
}
