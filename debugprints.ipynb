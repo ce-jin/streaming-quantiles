{
 "cells": [
  {
   "cell_type": "code",
   "execution_count": 1,
   "metadata": {},
   "outputs": [],
   "source": [
    "from stairwaytoheaven import StairwayToHeaven as sketch\n",
    "from adversaryStream import Adversary as adv"
   ]
  },
  {
   "cell_type": "code",
   "execution_count": 4,
   "metadata": {},
   "outputs": [
    {
     "name": "stdout",
     "output_type": "stream",
     "text": [
      "Heights = [47, 46, 39, 46]\n",
      "Heights = [47, 46, 39, 46]\n"
     ]
    }
   ],
   "source": [
    "from math import inf\n",
    "\n",
    "sketchsize = 4\n",
    "n = 64\n",
    "s = sketch(sketchsize)\n",
    "#print(f'Boxes = {s.items}')\n",
    "#print(f'Heights = {s.get_heights()}')\n",
    "#print('n =', 0)\n",
    "for i,x in enumerate(range(n,0,-1)):\n",
    "    #print('-'*80)\n",
    "    #print(f'Inserting value x = {x}')\n",
    "    pop_index = s.update(x)\n",
    "    #if pop_index:\n",
    "    #    print(f'Merged boxes {pop_index-1} and {pop_index}')\n",
    "    #else:\n",
    "    #    print(f'Merged no boxes')\n",
    "    #print(f'Boxes = {s.items}')\n",
    "    #hs = s.get_heights()\n",
    "    #assert(max(hs)==hs[0])    \n",
    "    #print('n =', i+1)\n",
    "hs = s.get_heights()\n",
    "print(f'Heights = {hs}')\n",
    "    \n",
    "    "
   ]
  },
  {
   "cell_type": "code",
   "execution_count": null,
   "metadata": {},
   "outputs": [],
   "source": [
    "K=4\n",
    "inveps = 16\n",
    "sketchsize = 32\n",
    "ad = adv(sketchsize,inveps)\n",
    "(stream1, stream2) = ad.generateStream(K)\n",
    "#print(stream1)\n",
    "#print(stream2)\n",
    "assert(len(stream1)== (2**K)*inveps)"
   ]
  },
  {
   "cell_type": "code",
   "execution_count": 3,
   "metadata": {},
   "outputs": [
    {
     "name": "stdout",
     "output_type": "stream",
     "text": [
      "Boxes = [[-inf, inf, 0, 0]]\n",
      "Heights = [0]\n",
      "n = 0\n",
      "len of stream = 64\n",
      "Heights = [17, 37, 37, 40]\n",
      "Boxes = [[-inf, inf, 0, 0]]\n",
      "Heights = [0]\n",
      "n = 0\n",
      "len of stream = 64\n",
      "Heights = [17, 37, 37, 40]\n"
     ]
    }
   ],
   "source": [
    "stream = stream1\n",
    "s = sketch(sketchsize)\n",
    "print(f'Boxes = {s.items}')\n",
    "print(f'Heights = {s.get_heights()}')\n",
    "print('n =', 0)\n",
    "for i,x in enumerate(stream):\n",
    "    #print('-'*80)\n",
    "    #print(f'Inserting value x = {x}')\n",
    "    pop_index = s.update(x)\n",
    "    #if pop_index:\n",
    "    #    print(f'Merged boxes {pop_index-1} and {pop_index}')\n",
    "    #else:\n",
    "    #    print(f'Merged no boxes')\n",
    "    #print(f'Boxes = {s.items}')\n",
    "    #hs = s.get_heights()\n",
    "    #print(f'Heights = {hs}')\n",
    "    #print('n =', i+1)\n",
    "hs = s.get_heights()\n",
    "print(f'len of stream = {len(stream)}')\n",
    "print(f'Heights = {hs}')"
   ]
  },
  {
   "cell_type": "code",
   "execution_count": 7,
   "metadata": {},
   "outputs": [
    {
     "name": "stdout",
     "output_type": "stream",
     "text": [
      "Boxes = [[-inf, inf, 0, 0]]\n",
      "Heights = [0]\n",
      "n = 0\n",
      "len of stream = 64\n",
      "Heights = [17, 37, 37, 40]\n",
      "Boxes = [[-inf, inf, 0, 0]]\n",
      "Heights = [0]\n",
      "n = 0\n",
      "len of stream = 64\n",
      "Heights = [17, 37, 37, 40]\n"
     ]
    }
   ],
   "source": [
    "stream = stream2\n",
    "s = sketch(sketchsize)\n",
    "print(f'Boxes = {s.items}')\n",
    "print(f'Heights = {s.get_heights()}')\n",
    "print('n =', 0)\n",
    "for i,x in enumerate(stream):\n",
    "    #print('-'*80)\n",
    "    #print(f'Inserting value x = {x}')\n",
    "    pop_index = s.update(x)\n",
    "    #if pop_index:\n",
    "    #    print(f'Merged boxes {pop_index-1} and {pop_index}')\n",
    "    #else:\n",
    "    #    print(f'Merged no boxes')\n",
    "    #print(f'Boxes = {s.items}')\n",
    "    #hs = s.get_heights()\n",
    "    #print(f'Heights = {hs}')\n",
    "    #print('n =', i+1)\n",
    "hs = s.get_heights()\n",
    "print(f'len of stream = {len(stream)}')\n",
    "print(f'Heights = {hs}')"
   ]
  },
  {
   "cell_type": "code",
   "execution_count": null,
   "metadata": {},
   "outputs": [],
   "source": []
  }
 ],
 "metadata": {
  "kernelspec": {
   "display_name": "Python 3",
   "language": "python",
   "name": "python3"
  },
  "language_info": {
   "codemirror_mode": {
    "name": "ipython",
    "version": 3
   },
   "file_extension": ".py",
   "mimetype": "text/x-python",
   "name": "python",
   "nbconvert_exporter": "python",
   "pygments_lexer": "ipython3",
   "version": "3.6.8"
  }
 },
 "nbformat": 4,
 "nbformat_minor": 4
}
